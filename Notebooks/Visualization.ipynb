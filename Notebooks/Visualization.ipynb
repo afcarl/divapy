{
 "cells": [
  {
   "cell_type": "markdown",
   "metadata": {
    "deletable": true,
    "editable": true
   },
   "source": [
    "# Analyzing Diva Vocal Tract Somatosensory System"
   ]
  },
  {
   "cell_type": "code",
   "execution_count": 1,
   "metadata": {
    "collapsed": false,
    "deletable": true,
    "editable": true
   },
   "outputs": [],
   "source": [
    "%matplotlib inline\n",
    "#Imports\n",
    "from divapy import Diva\n",
    "import numpy as np\n",
    "import matplotlib\n",
    "import matplotlib.pyplot as plt\n",
    "\n",
    "from ipywidgets import HBox, VBox\n",
    "import ipywidgets as widgets\n",
    "from IPython import display\n",
    "\n",
    "import warnings\n",
    "warnings.filterwarnings('ignore')"
   ]
  },
  {
   "cell_type": "code",
   "execution_count": 3,
   "metadata": {
    "collapsed": false,
    "deletable": true,
    "editable": true
   },
   "outputs": [],
   "source": [
    "m = []\n",
    "for i in range(10):\n",
    "    m += [widgets.FloatSlider(value=0.1, min=-3., max=3.,\n",
    "                                 step=0.1,\n",
    "                                 disabled=False,\n",
    "                                 continuous_update=False,\n",
    "                                 description = 'M'+str(i),\n",
    "                                 orientation='vertical',\n",
    "                                 readout=True,\n",
    "                                 readout_format='f',\n",
    "                                 slider_color='white'\n",
    "                                 )]\n",
    "    \n",
    "for i in range(3):\n",
    "    m += [widgets.FloatSlider(value=0.8, min=0., max=1.,\n",
    "                                 step=0.1,\n",
    "                                 disabled=False,\n",
    "                                 continuous_update=False,\n",
    "                                 description = 'M'+str(i+10),\n",
    "                                 orientation='vertical',\n",
    "                                 readout=True,\n",
    "                                 readout_format='f',\n",
    "                                 slider_color='white'\n",
    "                                 )]\n",
    "    \n",
    "sound_chk = widgets.Checkbox(value=True, description=\"Play sound:\")\n",
    "sound_btn = widgets.Button(description=\"Repeat\", disabled=True)\n",
    "\n",
    "sys = Diva()\n",
    "\n",
    "matplotlib.rcParams['figure.figsize'] = (16.0, 14.0)\n",
    "matplotlib.rcParams.update({'font.size': 18})"
   ]
  },
  {
   "cell_type": "code",
   "execution_count": 4,
   "metadata": {
    "collapsed": true,
    "deletable": true,
    "editable": true
   },
   "outputs": [],
   "source": [
    "def btn_repeat_sound_callback(foo):\n",
    "#     sound_btn.disabled =True\n",
    "    if sound_chk.value:\n",
    "        sound_btn.disabled = False\n",
    "        arts = np.array([x.get_interact_value() for x in m])       \n",
    "        sound = sys.get_static_sound(arts)\n",
    "        sys.play_sound(sound)    \n",
    "    \n",
    "def vt_plot(foo):    \n",
    "    arts = np.array([x.get_interact_value() for x in m])\n",
    "    \n",
    "    aud,som,c,af = sys.get_audsom(arts)\n",
    "    sound = sys.get_static_sound(arts)\n",
    "    \n",
    "    display.clear_output(wait=True) #wait=True\n",
    "    fig, ax = plt.subplots(2,3)\n",
    "    ax[0,0] = sys.plot_outline(arts, axes=ax[0,0])\n",
    "    ax[0,0].set_title(\"Outline\")\n",
    "    \n",
    "    plt.sca(ax[0,1])\n",
    "    plt.plot(aud,'ob')\n",
    "    plt.hold(True)\n",
    "    ax[0,1].set_title(\"Audio Formants\")\n",
    "\n",
    "    plt.sca(ax[0,2])\n",
    "    plt.plot(sound)\n",
    "    plt.hold(True)\n",
    "    ax[0,2].set_title(\"Sound\")\n",
    "\n",
    "    plt.sca(ax[1,1])\n",
    "    plt.plot(som,'ob')\n",
    "    plt.hold(True)\n",
    "    ax[1,1].set_ylim([-1,1])\n",
    "    ax[1,1].invert_xaxis()\n",
    "    ax[1,1].set_title(\"Somatosignals\")\n",
    "\n",
    "    plt.sca(ax[1,2])\n",
    "    plt.plot(af,'b')\n",
    "    plt.hold(True)\n",
    "    ax[1,2].invert_xaxis()\n",
    "    ax[1,2].set_title(\"Area Function\")\n",
    " \n",
    "    plt.show()\n",
    "    sound_btn.disabled=True\n",
    "    if sound_chk.value:\n",
    "        sound_btn.disabled=False\n",
    "        sys.play_sound(sound)"
   ]
  },
  {
   "cell_type": "code",
   "execution_count": 5,
   "metadata": {
    "collapsed": false,
    "deletable": true,
    "editable": true
   },
   "outputs": [
    {
     "data": {
      "image/png": "[encoded data removed]",
      "text/plain": [
       "<matplotlib.figure.Figure at 0x7f1691a8eed0>"
      ]
     },
     "metadata": {},
     "output_type": "display_data"
    }
   ],
   "source": [
    "for x in m: \n",
    "    x.observe(vt_plot,names='value')\n",
    "sound_btn.on_click(btn_repeat_sound_callback)\n",
    "display.display(VBox([HBox(m),HBox([sound_chk, sound_btn])]))\n",
    "#M0 lips, #M1 Vertical tongue, #M2 Horizontal tongue #M3Tongue flatness"
   ]
  },
  {
   "cell_type": "code",
   "execution_count": null,
   "metadata": {
    "collapsed": true
   },
   "outputs": [],
   "source": []
  }
 ],
 "metadata": {
  "kernelspec": {
   "display_name": "Python 2",
   "language": "python",
   "name": "python2"
  },
  "language_info": {
   "codemirror_mode": {
    "name": "ipython",
    "version": 2
   },
   "file_extension": ".py",
   "mimetype": "text/x-python",
   "name": "python",
   "nbconvert_exporter": "python",
   "pygments_lexer": "ipython2",
   "version": "2.7.12"
  },
  "widgets": {
   "application/vnd.jupyter.widget-state+json": {
    "state": {
     "01083e1b2c4e4e588d591bcf19afd139": {
      "model_module": "jupyter-js-widgets",
      "model_module_version": "~2.1.4",
      "model_name": "LayoutModel",
      "state": {
       "_model_module_version": "~2.1.4",
       "_view_module_version": "~2.1.4"
      }
     },
     "0e433ce8e6b74ceea59db2355e0cb423": {
      "model_module": "jupyter-js-widgets",
      "model_module_version": "~2.1.4",
      "model_name": "LayoutModel",
      "state": {
       "_model_module_version": "~2.1.4",
       "_view_module_version": "~2.1.4"
      }
     },
     "164e95e9eb20435e98809b8fc5ee244f": {
      "model_module": "jupyter-js-widgets",
      "model_module_version": "~2.1.4",
      "model_name": "CheckboxModel",
      "state": {
       "_model_module_version": "~2.1.4",
       "_view_module_version": "~2.1.4",
       "description": "Play sound:",
       "disabled": false,
       "layout": "IPY_MODEL_c422b123811e49d4bd2039c32d8914f2",
       "value": true
      }
     },
     "16c59baaf379495eb50fd9713f3620c1": {
      "model_module": "jupyter-js-widgets",
      "model_module_version": "~2.1.4",
      "model_name": "FloatSliderModel",
      "state": {
       "_model_module_version": "~2.1.4",
       "_view_module_version": "~2.1.4",
       "continuous_update": false,
       "description": "M9",
       "layout": "IPY_MODEL_6386a4c528a74896a87c4ec32dea36e7",
       "max": 3,
       "min": -3,
       "orientation": "vertical",
       "readout_format": "f",
       "slider_color": "white",
       "step": 0.1,
       "value": 0.1
      }
     },
     "171c0a6611764a64bc1d846c42926bb8": {
      "model_module": "jupyter-js-widgets",
      "model_module_version": "~2.1.4",
      "model_name": "ButtonStyleModel",
      "state": {
       "_model_module_version": "~2.1.4",
       "_view_module_version": "~2.1.4"
      }
     },
     "181215b9927f4ec6bba8a124ca9898b8": {
      "model_module": "jupyter-js-widgets",
      "model_module_version": "~2.1.4",
      "model_name": "LayoutModel",
      "state": {
       "_model_module_version": "~2.1.4",
       "_view_module_version": "~2.1.4"
      }
     },
     "1823741104834ca5aaf7a1ac37501c3f": {
      "model_module": "jupyter-js-widgets",
      "model_module_version": "~2.1.4",
      "model_name": "VBoxModel",
      "state": {
       "_model_module_version": "~2.1.4",
       "_view_module_version": "~2.1.4",
       "children": [
        "IPY_MODEL_d452020a739a4933b40658d396a2a268",
        "IPY_MODEL_b0cfc24709cc4c96adeaccd763a55129"
       ],
       "layout": "IPY_MODEL_ca812f4eb4634dbfa15df7ab960f6f2c"
      }
     },
     "23da35897387448493b429850eeb6b80": {
      "model_module": "jupyter-js-widgets",
      "model_module_version": "~2.1.4",
      "model_name": "FloatSliderModel",
      "state": {
       "_model_module_version": "~2.1.4",
       "_view_module_version": "~2.1.4",
       "continuous_update": false,
       "description": "M5",
       "layout": "IPY_MODEL_7f4ed5ccfeea40899dcf6daae24bb197",
       "max": 3,
       "min": -3,
       "orientation": "vertical",
       "readout_format": "f",
       "slider_color": "white",
       "step": 0.1,
       "value": 0.1
      }
     },
     "244961dc727c4ef5acac6d2e7621c9e8": {
      "model_module": "jupyter-js-widgets",
      "model_module_version": "~2.1.4",
      "model_name": "FloatSliderModel",
      "state": {
       "_model_module_version": "~2.1.4",
       "_view_module_version": "~2.1.4",
       "continuous_update": false,
       "description": "M1",
       "layout": "IPY_MODEL_a8c033eaddd34645b1586782880b8e1c",
       "max": 3,
       "min": -3,
       "orientation": "vertical",
       "readout_format": "f",
       "slider_color": "white",
       "step": 0.1,
       "value": -0.3
      }
     },
     "25c30721662441989996fe956e46725c": {
      "model_module": "jupyter-js-widgets",
      "model_module_version": "~2.1.4",
      "model_name": "LayoutModel",
      "state": {
       "_model_module_version": "~2.1.4",
       "_view_module_version": "~2.1.4"
      }
     },
     "27a58d624cbc4aa6beda3f2668557090": {
      "model_module": "jupyter-js-widgets",
      "model_module_version": "~2.1.4",
      "model_name": "ButtonModel",
      "state": {
       "_model_module_version": "~2.1.4",
       "_view_module_version": "~2.1.4",
       "description": "Repeat",
       "disabled": true,
       "layout": "IPY_MODEL_25c30721662441989996fe956e46725c",
       "style": "IPY_MODEL_171c0a6611764a64bc1d846c42926bb8"
      }
     },
     "2ac7bad183164eafae9edf7de17d6048": {
      "model_module": "jupyter-js-widgets",
      "model_module_version": "~2.1.4",
      "model_name": "LayoutModel",
      "state": {
       "_model_module_version": "~2.1.4",
       "_view_module_version": "~2.1.4"
      }
     },
     "31a8cfc7eed243c59e5e84bd5ebd1bf9": {
      "model_module": "jupyter-js-widgets",
      "model_module_version": "~2.1.4",
      "model_name": "LayoutModel",
      "state": {
       "_model_module_version": "~2.1.4",
       "_view_module_version": "~2.1.4"
      }
     },
     "3501412f75a1499b8a818b4229fa6657": {
      "model_module": "jupyter-js-widgets",
      "model_module_version": "~2.1.4",
      "model_name": "LayoutModel",
      "state": {
       "_model_module_version": "~2.1.4",
       "_view_module_version": "~2.1.4"
      }
     },
     "3604604903404c8ba3527b57c7df4a32": {
      "model_module": "jupyter-js-widgets",
      "model_module_version": "~2.1.4",
      "model_name": "LayoutModel",
      "state": {
       "_model_module_version": "~2.1.4",
       "_view_module_version": "~2.1.4"
      }
     },
     "38ed75325e744f22bacbbc7e22fe4067": {
      "model_module": "jupyter-js-widgets",
      "model_module_version": "~2.1.4",
      "model_name": "FloatSliderModel",
      "state": {
       "_model_module_version": "~2.1.4",
       "_view_module_version": "~2.1.4",
       "continuous_update": false,
       "description": "M11",
       "layout": "IPY_MODEL_dafb9b6454c44607bfe7a2e3f1cf79c8",
       "max": 1,
       "orientation": "vertical",
       "readout_format": "f",
       "slider_color": "white",
       "step": 0.1,
       "value": 0.8
      }
     },
     "3c3a47cb84724dc18040acc9f5759df6": {
      "model_module": "jupyter-js-widgets",
      "model_module_version": "~2.1.4",
      "model_name": "FloatSliderModel",
      "state": {
       "_model_module_version": "~2.1.4",
       "_view_module_version": "~2.1.4",
       "continuous_update": false,
       "description": "M12",
       "layout": "IPY_MODEL_cad0ad9152ab4c8c8553d6e133ea3377",
       "max": 1,
       "orientation": "vertical",
       "readout_format": "f",
       "slider_color": "white",
       "step": 0.1,
       "value": 0.8
      }
     },
     "3f8c6133afcf4121a66e60bd64c48cd1": {
      "model_module": "jupyter-js-widgets",
      "model_module_version": "~2.1.4",
      "model_name": "LayoutModel",
      "state": {
       "_model_module_version": "~2.1.4",
       "_view_module_version": "~2.1.4"
      }
     },
     "42823c257f924652b32e973aa5977eff": {
      "model_module": "jupyter-js-widgets",
      "model_module_version": "~2.1.4",
      "model_name": "LayoutModel",
      "state": {
       "_model_module_version": "~2.1.4",
       "_view_module_version": "~2.1.4"
      }
     },
     "44bd7ffcc5be4744a0bd58a001c5e972": {
      "model_module": "jupyter-js-widgets",
      "model_module_version": "~2.1.4",
      "model_name": "FloatSliderModel",
      "state": {
       "_model_module_version": "~2.1.4",
       "_view_module_version": "~2.1.4",
       "continuous_update": false,
       "description": "M2",
       "layout": "IPY_MODEL_789a8175cc0845cab6118ddeee4559db",
       "max": 3,
       "min": -3,
       "orientation": "vertical",
       "readout_format": "f",
       "slider_color": "white",
       "step": 0.1,
       "value": 0.1
      }
     },
     "4707de5519b4462482494a6c972467d2": {
      "model_module": "jupyter-js-widgets",
      "model_module_version": "~2.1.4",
      "model_name": "LayoutModel",
      "state": {
       "_model_module_version": "~2.1.4",
       "_view_module_version": "~2.1.4"
      }
     },
     "4ed51bff97cf45ae986d2ea9bc53033e": {
      "model_module": "jupyter-js-widgets",
      "model_module_version": "~2.1.4",
      "model_name": "FloatSliderModel",
      "state": {
       "_model_module_version": "~2.1.4",
       "_view_module_version": "~2.1.4",
       "continuous_update": false,
       "description": "M0",
       "layout": "IPY_MODEL_fa5e54baf37b42469c68a8c1d98db995",
       "max": 3,
       "min": -3,
       "orientation": "vertical",
       "readout_format": "f",
       "slider_color": "white",
       "step": 0.1,
       "value": 0.1
      }
     },
     "4fe81aaf3e3f4d7d8862f7b667e84243": {
      "model_module": "jupyter-js-widgets",
      "model_module_version": "~2.1.4",
      "model_name": "LayoutModel",
      "state": {
       "_model_module_version": "~2.1.4",
       "_view_module_version": "~2.1.4"
      }
     },
     "6386a4c528a74896a87c4ec32dea36e7": {
      "model_module": "jupyter-js-widgets",
      "model_module_version": "~2.1.4",
      "model_name": "LayoutModel",
      "state": {
       "_model_module_version": "~2.1.4",
       "_view_module_version": "~2.1.4"
      }
     },
     "6a0c090689474ef28081fa0cc62c7199": {
      "model_module": "jupyter-js-widgets",
      "model_module_version": "~2.1.4",
      "model_name": "LayoutModel",
      "state": {
       "_model_module_version": "~2.1.4",
       "_view_module_version": "~2.1.4"
      }
     },
     "6b313ee510634560a5ce995a84471223": {
      "model_module": "jupyter-js-widgets",
      "model_module_version": "~2.1.4",
      "model_name": "LayoutModel",
      "state": {
       "_model_module_version": "~2.1.4",
       "_view_module_version": "~2.1.4"
      }
     },
     "6f024e1eb1024c3d8ed7dd81b40b6b7c": {
      "model_module": "jupyter-js-widgets",
      "model_module_version": "~2.1.4",
      "model_name": "FloatSliderModel",
      "state": {
       "_model_module_version": "~2.1.4",
       "_view_module_version": "~2.1.4",
       "continuous_update": false,
       "description": "M7",
       "layout": "IPY_MODEL_01083e1b2c4e4e588d591bcf19afd139",
       "max": 3,
       "min": -3,
       "orientation": "vertical",
       "readout_format": "f",
       "slider_color": "white",
       "step": 0.1,
       "value": 0.1
      }
     },
     "789a8175cc0845cab6118ddeee4559db": {
      "model_module": "jupyter-js-widgets",
      "model_module_version": "~2.1.4",
      "model_name": "LayoutModel",
      "state": {
       "_model_module_version": "~2.1.4",
       "_view_module_version": "~2.1.4"
      }
     },
     "7f4ed5ccfeea40899dcf6daae24bb197": {
      "model_module": "jupyter-js-widgets",
      "model_module_version": "~2.1.4",
      "model_name": "LayoutModel",
      "state": {
       "_model_module_version": "~2.1.4",
       "_view_module_version": "~2.1.4"
      }
     },
     "8354b3719aa24f58beb59e483a48f82b": {
      "model_module": "jupyter-js-widgets",
      "model_module_version": "~2.1.4",
      "model_name": "FloatSliderModel",
      "state": {
       "_model_module_version": "~2.1.4",
       "_view_module_version": "~2.1.4",
       "continuous_update": false,
       "description": "M0",
       "layout": "IPY_MODEL_6b313ee510634560a5ce995a84471223",
       "max": 3,
       "min": -3,
       "orientation": "vertical",
       "readout_format": "f",
       "slider_color": "white",
       "step": 0.1,
       "value": 0.2
      }
     },
     "899e127f515f4b04ab80bbd351e59374": {
      "model_module": "jupyter-js-widgets",
      "model_module_version": "~2.1.4",
      "model_name": "FloatSliderModel",
      "state": {
       "_model_module_version": "~2.1.4",
       "_view_module_version": "~2.1.4",
       "continuous_update": false,
       "description": "M5",
       "layout": "IPY_MODEL_6a0c090689474ef28081fa0cc62c7199",
       "max": 3,
       "min": -3,
       "orientation": "vertical",
       "readout_format": "f",
       "slider_color": "white",
       "step": 0.1,
       "value": 0.1
      }
     },
     "8acf02fbb6484e4f9b818c4d50bf7cd1": {
      "model_module": "jupyter-js-widgets",
      "model_module_version": "~2.1.4",
      "model_name": "FloatSliderModel",
      "state": {
       "_model_module_version": "~2.1.4",
       "_view_module_version": "~2.1.4",
       "continuous_update": false,
       "description": "M4",
       "layout": "IPY_MODEL_2ac7bad183164eafae9edf7de17d6048",
       "max": 3,
       "min": -3,
       "orientation": "vertical",
       "readout_format": "f",
       "slider_color": "white",
       "step": 0.1,
       "value": 0.1
      }
     },
     "92903c42d4774073a4102343c02ed9fb": {
      "model_module": "jupyter-js-widgets",
      "model_module_version": "~2.1.4",
      "model_name": "FloatSliderModel",
      "state": {
       "_model_module_version": "~2.1.4",
       "_view_module_version": "~2.1.4",
       "continuous_update": false,
       "description": "M6",
       "layout": "IPY_MODEL_4707de5519b4462482494a6c972467d2",
       "max": 3,
       "min": -3,
       "orientation": "vertical",
       "readout_format": "f",
       "slider_color": "white",
       "step": 0.1,
       "value": 0.8
      }
     },
     "93a75eaf24f044749165b08184b85c0c": {
      "model_module": "jupyter-js-widgets",
      "model_module_version": "~2.1.4",
      "model_name": "FloatSliderModel",
      "state": {
       "_model_module_version": "~2.1.4",
       "_view_module_version": "~2.1.4",
       "continuous_update": false,
       "description": "M2",
       "layout": "IPY_MODEL_3f8c6133afcf4121a66e60bd64c48cd1",
       "max": 3,
       "min": -3,
       "orientation": "vertical",
       "readout_format": "f",
       "slider_color": "white",
       "step": 0.1,
       "value": 0.1
      }
     },
     "940d0f746d424120b37fda04dd7add3e": {
      "model_module": "jupyter-js-widgets",
      "model_module_version": "~2.1.4",
      "model_name": "FloatSliderModel",
      "state": {
       "_model_module_version": "~2.1.4",
       "_view_module_version": "~2.1.4",
       "continuous_update": false,
       "description": "M1",
       "layout": "IPY_MODEL_b59cb048211a4ef29221da53c96eb358",
       "max": 3,
       "min": -3,
       "orientation": "vertical",
       "readout_format": "f",
       "slider_color": "white",
       "step": 0.1,
       "value": 0.1
      }
     },
     "9b7d5d4a7e3d420681de8eb2fb0804d7": {
      "model_module": "jupyter-js-widgets",
      "model_module_version": "~2.1.4",
      "model_name": "CheckboxModel",
      "state": {
       "_model_module_version": "~2.1.4",
       "_view_module_version": "~2.1.4",
       "description": "Play sound:",
       "disabled": false,
       "layout": "IPY_MODEL_3604604903404c8ba3527b57c7df4a32",
       "value": true
      }
     },
     "9dc52a321b0a401e963491f14c239512": {
      "model_module": "jupyter-js-widgets",
      "model_module_version": "~2.1.4",
      "model_name": "FloatSliderModel",
      "state": {
       "_model_module_version": "~2.1.4",
       "_view_module_version": "~2.1.4",
       "continuous_update": false,
       "description": "M9",
       "layout": "IPY_MODEL_181215b9927f4ec6bba8a124ca9898b8",
       "max": 3,
       "min": -3,
       "orientation": "vertical",
       "readout_format": "f",
       "slider_color": "white",
       "step": 0.1,
       "value": 0.1
      }
     },
     "9ec20bb46f4140cdb3567530fed08d22": {
      "model_module": "jupyter-js-widgets",
      "model_module_version": "~2.1.4",
      "model_name": "FloatSliderModel",
      "state": {
       "_model_module_version": "~2.1.4",
       "_view_module_version": "~2.1.4",
       "continuous_update": false,
       "description": "M8",
       "layout": "IPY_MODEL_31a8cfc7eed243c59e5e84bd5ebd1bf9",
       "max": 3,
       "min": -3,
       "orientation": "vertical",
       "readout_format": "f",
       "slider_color": "white",
       "step": 0.1,
       "value": 0.1
      }
     },
     "a8c033eaddd34645b1586782880b8e1c": {
      "model_module": "jupyter-js-widgets",
      "model_module_version": "~2.1.4",
      "model_name": "LayoutModel",
      "state": {
       "_model_module_version": "~2.1.4",
       "_view_module_version": "~2.1.4"
      }
     },
     "aa71309abe2846f1893e70ae7789b6bf": {
      "model_module": "jupyter-js-widgets",
      "model_module_version": "~2.1.4",
      "model_name": "LayoutModel",
      "state": {
       "_model_module_version": "~2.1.4",
       "_view_module_version": "~2.1.4"
      }
     },
     "b0cfc24709cc4c96adeaccd763a55129": {
      "model_module": "jupyter-js-widgets",
      "model_module_version": "~2.1.4",
      "model_name": "HBoxModel",
      "state": {
       "_model_module_version": "~2.1.4",
       "_view_module_version": "~2.1.4",
       "children": [
        "IPY_MODEL_9b7d5d4a7e3d420681de8eb2fb0804d7",
        "IPY_MODEL_cc0721a3c0414f7badf19cfecd8a2d30"
       ],
       "layout": "IPY_MODEL_f1c2676c2b3e418c93e925bc451f6f9d"
      }
     },
     "b28ffc7287224e9c8eefc48853242f0e": {
      "model_module": "jupyter-js-widgets",
      "model_module_version": "~2.1.4",
      "model_name": "LayoutModel",
      "state": {
       "_model_module_version": "~2.1.4",
       "_view_module_version": "~2.1.4"
      }
     },
     "b3bf657848914a6f8f16517f3002ec1e": {
      "model_module": "jupyter-js-widgets",
      "model_module_version": "~2.1.4",
      "model_name": "LayoutModel",
      "state": {
       "_model_module_version": "~2.1.4",
       "_view_module_version": "~2.1.4"
      }
     },
     "b59cb048211a4ef29221da53c96eb358": {
      "model_module": "jupyter-js-widgets",
      "model_module_version": "~2.1.4",
      "model_name": "LayoutModel",
      "state": {
       "_model_module_version": "~2.1.4",
       "_view_module_version": "~2.1.4"
      }
     },
     "ba770ed27dac4ff391b3ff4a17126255": {
      "model_module": "jupyter-js-widgets",
      "model_module_version": "~2.1.4",
      "model_name": "FloatSliderModel",
      "state": {
       "_model_module_version": "~2.1.4",
       "_view_module_version": "~2.1.4",
       "continuous_update": false,
       "description": "M3",
       "layout": "IPY_MODEL_b28ffc7287224e9c8eefc48853242f0e",
       "max": 3,
       "min": -3,
       "orientation": "vertical",
       "readout_format": "f",
       "slider_color": "white",
       "step": 0.1,
       "value": 0.1
      }
     },
     "bb4c3fc00e224c1298510611f46fe5fa": {
      "model_module": "jupyter-js-widgets",
      "model_module_version": "~2.1.4",
      "model_name": "FloatSliderModel",
      "state": {
       "_model_module_version": "~2.1.4",
       "_view_module_version": "~2.1.4",
       "continuous_update": false,
       "description": "M11",
       "layout": "IPY_MODEL_42823c257f924652b32e973aa5977eff",
       "max": 1,
       "orientation": "vertical",
       "readout_format": "f",
       "slider_color": "white",
       "step": 0.1,
       "value": 0.8
      }
     },
     "bc7073a689c94b9bb90ab8d1afd17339": {
      "model_module": "jupyter-js-widgets",
      "model_module_version": "~2.1.4",
      "model_name": "FloatSliderModel",
      "state": {
       "_model_module_version": "~2.1.4",
       "_view_module_version": "~2.1.4",
       "continuous_update": false,
       "description": "M7",
       "layout": "IPY_MODEL_f293ed9d283f4cb7ad8f9f29ba837db8",
       "max": 3,
       "min": -3,
       "orientation": "vertical",
       "readout_format": "f",
       "slider_color": "white",
       "step": 0.1,
       "value": 0.1
      }
     },
     "bf78baed72e744efa5ce31ea9efebcbd": {
      "model_module": "jupyter-js-widgets",
      "model_module_version": "~2.1.4",
      "model_name": "LayoutModel",
      "state": {
       "_model_module_version": "~2.1.4",
       "_view_module_version": "~2.1.4"
      }
     },
     "c422b123811e49d4bd2039c32d8914f2": {
      "model_module": "jupyter-js-widgets",
      "model_module_version": "~2.1.4",
      "model_name": "LayoutModel",
      "state": {
       "_model_module_version": "~2.1.4",
       "_view_module_version": "~2.1.4"
      }
     },
     "c83b5605599349469370c3cbcef76d5f": {
      "model_module": "jupyter-js-widgets",
      "model_module_version": "~2.1.4",
      "model_name": "FloatSliderModel",
      "state": {
       "_model_module_version": "~2.1.4",
       "_view_module_version": "~2.1.4",
       "continuous_update": false,
       "description": "M4",
       "layout": "IPY_MODEL_0e433ce8e6b74ceea59db2355e0cb423",
       "max": 3,
       "min": -3,
       "orientation": "vertical",
       "readout_format": "f",
       "slider_color": "white",
       "step": 0.1,
       "value": 0.1
      }
     },
     "c8ce0cdd31914602ba557d8ce6eb01ca": {
      "model_module": "jupyter-js-widgets",
      "model_module_version": "~2.1.4",
      "model_name": "FloatSliderModel",
      "state": {
       "_model_module_version": "~2.1.4",
       "_view_module_version": "~2.1.4",
       "continuous_update": false,
       "description": "M12",
       "layout": "IPY_MODEL_e401b921a7f14a6cb160619b8dd71350",
       "max": 1,
       "orientation": "vertical",
       "readout_format": "f",
       "slider_color": "white",
       "step": 0.1,
       "value": 0.8
      }
     },
     "c9558dcc2be849419f7f894622290005": {
      "model_module": "jupyter-js-widgets",
      "model_module_version": "~2.1.4",
      "model_name": "FloatSliderModel",
      "state": {
       "_model_module_version": "~2.1.4",
       "_view_module_version": "~2.1.4",
       "continuous_update": false,
       "description": "M3",
       "layout": "IPY_MODEL_3501412f75a1499b8a818b4229fa6657",
       "max": 3,
       "min": -3,
       "orientation": "vertical",
       "readout_format": "f",
       "slider_color": "white",
       "step": 0.1,
       "value": 0.1
      }
     },
     "ca812f4eb4634dbfa15df7ab960f6f2c": {
      "model_module": "jupyter-js-widgets",
      "model_module_version": "~2.1.4",
      "model_name": "LayoutModel",
      "state": {
       "_model_module_version": "~2.1.4",
       "_view_module_version": "~2.1.4"
      }
     },
     "cad0ad9152ab4c8c8553d6e133ea3377": {
      "model_module": "jupyter-js-widgets",
      "model_module_version": "~2.1.4",
      "model_name": "LayoutModel",
      "state": {
       "_model_module_version": "~2.1.4",
       "_view_module_version": "~2.1.4"
      }
     },
     "cbe28bf4fe994d3eaa75b3672ff6b144": {
      "model_module": "jupyter-js-widgets",
      "model_module_version": "~2.1.4",
      "model_name": "LayoutModel",
      "state": {
       "_model_module_version": "~2.1.4",
       "_view_module_version": "~2.1.4"
      }
     },
     "cc0721a3c0414f7badf19cfecd8a2d30": {
      "model_module": "jupyter-js-widgets",
      "model_module_version": "~2.1.4",
      "model_name": "ButtonModel",
      "state": {
       "_model_module_version": "~2.1.4",
       "_view_module_version": "~2.1.4",
       "description": "Repeat",
       "layout": "IPY_MODEL_4fe81aaf3e3f4d7d8862f7b667e84243",
       "style": "IPY_MODEL_e0e88439a2d941b0a0bedfba24380e63"
      }
     },
     "cc28a7514ae74edbaffba532950e9596": {
      "model_module": "jupyter-js-widgets",
      "model_module_version": "~2.1.4",
      "model_name": "FloatSliderModel",
      "state": {
       "_model_module_version": "~2.1.4",
       "_view_module_version": "~2.1.4",
       "continuous_update": false,
       "description": "M8",
       "layout": "IPY_MODEL_bf78baed72e744efa5ce31ea9efebcbd",
       "max": 3,
       "min": -3,
       "orientation": "vertical",
       "readout_format": "f",
       "slider_color": "white",
       "step": 0.1,
       "value": 0.1
      }
     },
     "d452020a739a4933b40658d396a2a268": {
      "model_module": "jupyter-js-widgets",
      "model_module_version": "~2.1.4",
      "model_name": "HBoxModel",
      "state": {
       "_model_module_version": "~2.1.4",
       "_view_module_version": "~2.1.4",
       "children": [
        "IPY_MODEL_8354b3719aa24f58beb59e483a48f82b",
        "IPY_MODEL_244961dc727c4ef5acac6d2e7621c9e8",
        "IPY_MODEL_44bd7ffcc5be4744a0bd58a001c5e972",
        "IPY_MODEL_ba770ed27dac4ff391b3ff4a17126255",
        "IPY_MODEL_c83b5605599349469370c3cbcef76d5f",
        "IPY_MODEL_23da35897387448493b429850eeb6b80",
        "IPY_MODEL_92903c42d4774073a4102343c02ed9fb",
        "IPY_MODEL_6f024e1eb1024c3d8ed7dd81b40b6b7c",
        "IPY_MODEL_9ec20bb46f4140cdb3567530fed08d22",
        "IPY_MODEL_16c59baaf379495eb50fd9713f3620c1",
        "IPY_MODEL_f4d75b930056446dbeb988cd94146783",
        "IPY_MODEL_38ed75325e744f22bacbbc7e22fe4067",
        "IPY_MODEL_3c3a47cb84724dc18040acc9f5759df6"
       ],
       "layout": "IPY_MODEL_cbe28bf4fe994d3eaa75b3672ff6b144"
      }
     },
     "dafb9b6454c44607bfe7a2e3f1cf79c8": {
      "model_module": "jupyter-js-widgets",
      "model_module_version": "~2.1.4",
      "model_name": "LayoutModel",
      "state": {
       "_model_module_version": "~2.1.4",
       "_view_module_version": "~2.1.4"
      }
     },
     "e0e88439a2d941b0a0bedfba24380e63": {
      "model_module": "jupyter-js-widgets",
      "model_module_version": "~2.1.4",
      "model_name": "ButtonStyleModel",
      "state": {
       "_model_module_version": "~2.1.4",
       "_view_module_version": "~2.1.4"
      }
     },
     "e401b921a7f14a6cb160619b8dd71350": {
      "model_module": "jupyter-js-widgets",
      "model_module_version": "~2.1.4",
      "model_name": "LayoutModel",
      "state": {
       "_model_module_version": "~2.1.4",
       "_view_module_version": "~2.1.4"
      }
     },
     "e54dc5c3e999453fb11e65932c0a82c3": {
      "model_module": "jupyter-js-widgets",
      "model_module_version": "~2.1.4",
      "model_name": "LayoutModel",
      "state": {
       "_model_module_version": "~2.1.4",
       "_view_module_version": "~2.1.4"
      }
     },
     "eb29eebf3e5048238f0eb58ee1740e28": {
      "model_module": "jupyter-js-widgets",
      "model_module_version": "~2.1.4",
      "model_name": "FloatSliderModel",
      "state": {
       "_model_module_version": "~2.1.4",
       "_view_module_version": "~2.1.4",
       "continuous_update": false,
       "description": "M6",
       "layout": "IPY_MODEL_e54dc5c3e999453fb11e65932c0a82c3",
       "max": 3,
       "min": -3,
       "orientation": "vertical",
       "readout_format": "f",
       "slider_color": "white",
       "step": 0.1,
       "value": 0.1
      }
     },
     "f1c2676c2b3e418c93e925bc451f6f9d": {
      "model_module": "jupyter-js-widgets",
      "model_module_version": "~2.1.4",
      "model_name": "LayoutModel",
      "state": {
       "_model_module_version": "~2.1.4",
       "_view_module_version": "~2.1.4"
      }
     },
     "f293ed9d283f4cb7ad8f9f29ba837db8": {
      "model_module": "jupyter-js-widgets",
      "model_module_version": "~2.1.4",
      "model_name": "LayoutModel",
      "state": {
       "_model_module_version": "~2.1.4",
       "_view_module_version": "~2.1.4"
      }
     },
     "f4d75b930056446dbeb988cd94146783": {
      "model_module": "jupyter-js-widgets",
      "model_module_version": "~2.1.4",
      "model_name": "FloatSliderModel",
      "state": {
       "_model_module_version": "~2.1.4",
       "_view_module_version": "~2.1.4",
       "continuous_update": false,
       "description": "M10",
       "layout": "IPY_MODEL_aa71309abe2846f1893e70ae7789b6bf",
       "max": 1,
       "orientation": "vertical",
       "readout_format": "f",
       "slider_color": "white",
       "step": 0.1,
       "value": 0.8
      }
     },
     "f4e3be0f3e744052b11ee01d5209a9c6": {
      "model_module": "jupyter-js-widgets",
      "model_module_version": "~2.1.4",
      "model_name": "FloatSliderModel",
      "state": {
       "_model_module_version": "~2.1.4",
       "_view_module_version": "~2.1.4",
       "continuous_update": false,
       "description": "M10",
       "layout": "IPY_MODEL_b3bf657848914a6f8f16517f3002ec1e",
       "max": 1,
       "orientation": "vertical",
       "readout_format": "f",
       "slider_color": "white",
       "step": 0.1,
       "value": 0.8
      }
     },
     "fa5e54baf37b42469c68a8c1d98db995": {
      "model_module": "jupyter-js-widgets",
      "model_module_version": "~2.1.4",
      "model_name": "LayoutModel",
      "state": {
       "_model_module_version": "~2.1.4",
       "_view_module_version": "~2.1.4"
      }
     }
    },
    "version_major": 1,
    "version_minor": 0
   }
  }
 },
 "nbformat": 4,
 "nbformat_minor": 0
}
