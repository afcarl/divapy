{
 "cells": [
  {
   "cell_type": "markdown",
   "metadata": {
    "deletable": true,
    "editable": true
   },
   "source": [
    "# Analyzing Diva Vocal Tract Somatosensory System"
   ]
  },
  {
   "cell_type": "code",
   "execution_count": 1,
   "metadata": {
    "collapsed": false,
    "deletable": true,
    "editable": true
   },
   "outputs": [],
   "source": [
    "%matplotlib inline\n",
    "#Imports\n",
    "from divapy import Diva\n",
    "from divaml import Diva as Divaml\n",
    "import numpy as np\n",
    "import matplotlib\n",
    "import matplotlib.pyplot as plt\n",
    "\n",
    "from ipywidgets import HBox, VBox\n",
    "import ipywidgets as widgets\n",
    "from IPython import display\n",
    "\n",
    "import warnings\n",
    "warnings.filterwarnings('ignore')"
   ]
  },
  {
   "cell_type": "code",
   "execution_count": 3,
   "metadata": {
    "collapsed": false,
    "deletable": true,
    "editable": true
   },
   "outputs": [],
   "source": [
    "m = []\n",
    "for i in range(10):\n",
    "    m += [widgets.FloatSlider(value=0.1, min=-3., max=3.,\n",
    "                                 step=0.1,\n",
    "                                 disabled=False,\n",
    "                                 continuous_update=False,\n",
    "                                 description = 'M'+str(i),\n",
    "                                 orientation='vertical',\n",
    "                                 readout=True,\n",
    "                                 readout_format='f',\n",
    "                                 slider_color='white'\n",
    "                                 )]\n",
    "    \n",
    "for i in range(3):\n",
    "    m += [widgets.FloatSlider(value=0.8, min=0., max=1.,\n",
    "                                 step=0.1,\n",
    "                                 disabled=False,\n",
    "                                 continuous_update=False,\n",
    "                                 description = 'M'+str(i+10),\n",
    "                                 orientation='vertical',\n",
    "                                 readout=True,\n",
    "                                 readout_format='f',\n",
    "                                 slider_color='white'\n",
    "                                 )]\n",
    "    \n",
    "sound_chk = widgets.Checkbox(value=True, description=\"Play sound:\")\n",
    "sound_btn = widgets.Button(description=\"Repeat\", disabled=True)\n",
    "\n",
    "sys = Diva()\n",
    "sysml = Divaml()\n",
    "\n",
    "matplotlib.rcParams['figure.figsize'] = (16.0, 14.0)\n",
    "matplotlib.rcParams.update({'font.size': 18})"
   ]
  },
  {
   "cell_type": "code",
   "execution_count": 3,
   "metadata": {
    "collapsed": true,
    "deletable": true,
    "editable": true
   },
   "outputs": [],
   "source": [
    "def btn_repeat_sound_callback(foo):\n",
    "#     sound_btn.disabled =True\n",
    "    if sound_chk.value:\n",
    "        sound_btn.disabled = False\n",
    "        arts = np.array([x.get_interact_value() for x in m])       \n",
    "        sound = sys.get_static_sound(arts)\n",
    "        sys.play_sound(sound)    \n",
    "    \n",
    "def vt_plot(foo):\n",
    "    display.clear_output(wait=True)\n",
    "    arts = np.array([x.get_interact_value() for x in m])\n",
    "    fig, ax = plt.subplots(2,3)\n",
    "    aud,som,c,af = sys.get_audsom(arts)\n",
    "    audml,somml,cml,afml = sysml.get_audsom(arts)\n",
    "    sound = sys.get_static_sound(arts)\n",
    "    \n",
    "    ax[0,0] = sys.plot_outline(arts, axes=ax[0,0])\n",
    "    \n",
    "    plt.sca(ax[0,1])\n",
    "    plt.plot(aud,'b')\n",
    "    plt.hold(True)\n",
    "    plt.plot(audml,'r')\n",
    "\n",
    "    plt.sca(ax[0,2])\n",
    "    plt.plot(sound)\n",
    "    plt.hold(True)\n",
    "    \n",
    "    plt.sca(ax[1,1])\n",
    "    plt.plot(som)\n",
    "    plt.hold(True)\n",
    "    plt.plot(somml,'r')\n",
    "    ax[1,1].set_ylim([-1,1])\n",
    "    ax[1,1].invert_xaxis()\n",
    "\n",
    "    plt.sca(ax[1,2])\n",
    "    plt.plot(af)\n",
    "    plt.hold(True)\n",
    "    plt.plot(afml,'r')\n",
    "    ax[1,2].invert_xaxis()\n",
    "    \n",
    "    sound_btn.disabled=True\n",
    "    if sound_chk.value:\n",
    "        sound_btn.disabled=False\n",
    "        sys.play_sound(sound)"
   ]
  },
  {
   "cell_type": "code",
   "execution_count": 5,
   "metadata": {
    "collapsed": false,
    "deletable": true,
    "editable": true
   },
   "outputs": [
    {
     "name": "stderr",
     "output_type": "stream",
     "text": [
      "Widget Javascript not detected.  It may not be installed or enabled properly.\n"
     ]
    }
   ],
   "source": [
    "for x in m: \n",
    "    x.observe(vt_plot,names='value')\n",
    "sound_btn.on_click(btn_repeat_sound_callback)\n",
    "display.display(VBox([HBox(m),HBox([sound_chk, sound_btn])]))"
   ]
  },
  {
   "cell_type": "code",
   "execution_count": null,
   "metadata": {
    "collapsed": true
   },
   "outputs": [],
   "source": [
    ""
   ]
  }
 ],
 "metadata": {
  "kernelspec": {
   "display_name": "Python 2",
   "language": "python",
   "name": "python2"
  },
  "language_info": {
   "codemirror_mode": {
    "name": "ipython",
    "version": 2.0
   },
   "file_extension": ".py",
   "mimetype": "text/x-python",
   "name": "python",
   "nbconvert_exporter": "python",
   "pygments_lexer": "ipython2",
   "version": "2.7.12"
  }
 },
 "nbformat": 4,
 "nbformat_minor": 0
}